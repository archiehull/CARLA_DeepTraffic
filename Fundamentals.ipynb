{
 "cells": [
  {
   "cell_type": "markdown",
   "metadata": {},
   "source": [
    "https://carla.readthedocs.io/en/latest/tuto_first_steps/\n",
    "\n",
    "https://www.youtube.com/watch?v=pONr1R1dy88\n",
    "\n",
    "https://www.youtube.com/playlist?list=PLQVvvaa0QuDeI12McNQdnTlWz9XlCa0uo\n",
    "\n",
    "https://pythonprogramming.net/control-camera-sensor-self-driving-autonomous-cars-carla-python/"
   ]
  },
  {
   "cell_type": "markdown",
   "metadata": {},
   "source": [
    "**MUST USE PYTHON 3.8**\n",
    "<br><small>Check in top right corner for Kernal version</small>\n",
    "\n",
    "<br>newer vesions will encouter these errors:\n",
    "<br><br>*python setup.py egg_info did not run successfully.*\n",
    "<br>*FileNotFoundError: [WinError 3] The system cannot find the path specified: 'dependencies/lib'*"
   ]
  },
  {
   "cell_type": "code",
   "execution_count": 2,
   "metadata": {},
   "outputs": [
    {
     "name": "stdout",
     "output_type": "stream",
     "text": [
      "3.8.0 (tags/v3.8.0:fa919fd, Oct 14 2019, 19:37:50) [MSC v.1916 64 bit (AMD64)]\n"
     ]
    }
   ],
   "source": [
    "import sys\n",
    "print(sys.version)"
   ]
  },
  {
   "cell_type": "markdown",
   "metadata": {},
   "source": [
    "__Install pygame and numpy library to pythong 3.8 terminal__"
   ]
  },
  {
   "cell_type": "code",
   "execution_count": 5,
   "metadata": {},
   "outputs": [],
   "source": [
    "#!py -3.8 -m pip install numpy\n",
    "#!py -3.8 -m pip install pygame\n",
    "#!py -3.8 -m pip install opencv-python\n",
    "#!py -3.8 -m pip install opencv-python-headless\n",
    "#!py -3.8 -m pip install matplotlib\n",
    "#!py -3.8 -m pip install torch"
   ]
  },
  {
   "cell_type": "code",
   "execution_count": 3,
   "metadata": {},
   "outputs": [],
   "source": [
    "#pip install carla"
   ]
  },
  {
   "cell_type": "code",
   "execution_count": 3,
   "metadata": {},
   "outputs": [
    {
     "name": "stdout",
     "output_type": "stream",
     "text": [
      "Name: torch\n",
      "Version: 2.4.1+cu118\n",
      "Summary: Tensors and Dynamic neural networks in Python with strong GPU acceleration\n",
      "Home-page: https://pytorch.org/\n",
      "Author: PyTorch Team\n",
      "Author-email: packages@pytorch.org\n",
      "License: BSD-3\n",
      "Location: c:\\users\\663073\\appdata\\local\\programs\\python\\python38\\lib\\site-packages\n",
      "Requires: filelock, fsspec, jinja2, networkx, sympy, typing-extensions\n",
      "Required-by: torchaudio, torchvision\n"
     ]
    }
   ],
   "source": [
    "!py -3.8 -m pip show torch"
   ]
  },
  {
   "cell_type": "code",
   "execution_count": 2,
   "metadata": {},
   "outputs": [],
   "source": [
    "import carla\n",
    "import math\n",
    "import random\n",
    "import time\n",
    "import subprocess\n",
    "import numpy as np\n",
    "import cv2\n",
    "import torch"
   ]
  },
  {
   "cell_type": "code",
   "execution_count": 4,
   "metadata": {},
   "outputs": [
    {
     "name": "stdout",
     "output_type": "stream",
     "text": [
      "2.4.1+cu118\n",
      "11.8\n"
     ]
    }
   ],
   "source": [
    "print(torch.__version__)  # PyTorch version\n",
    "print(torch.version.cuda)  # CUDA version PyTorch is using"
   ]
  },
  {
   "cell_type": "code",
   "execution_count": 3,
   "metadata": {},
   "outputs": [
    {
     "name": "stdout",
     "output_type": "stream",
     "text": [
      "CUDA Available: True\n",
      "Device Name: NVIDIA GeForce RTX 3070\n"
     ]
    }
   ],
   "source": [
    "print(\"CUDA Available:\", torch.cuda.is_available())\n",
    "if torch.cuda.is_available():\n",
    "    print(\"Device Name:\", torch.cuda.get_device_name(0))"
   ]
  },
  {
   "cell_type": "markdown",
   "metadata": {},
   "source": [
    "__! LIKELY TO CRASH TERMINAL !__\n",
    "<br><small> copy filepath into Run or CMD </small>"
   ]
  },
  {
   "cell_type": "code",
   "execution_count": 6,
   "metadata": {},
   "outputs": [
    {
     "data": {
      "text/plain": [
       "<subprocess.Popen at 0x22a679ee2e0>"
      ]
     },
     "execution_count": 6,
     "metadata": {},
     "output_type": "execute_result"
    }
   ],
   "source": [
    "exe_filepath = \"C:\\Temp\\CARLA_0.9.15\\WindowsNoEditor\\CarlaUE4.exe\"\n",
    "\n",
    "# Run the executable in a fully detached process\n",
    "subprocess.Popen(\n",
    "    exe_filepath,\n",
    "    shell=True,\n",
    "    stdout=subprocess.DEVNULL,\n",
    "    stderr=subprocess.DEVNULL,\n",
    "    stdin=subprocess.DEVNULL,\n",
    "    close_fds=True\n",
    ")"
   ]
  },
  {
   "cell_type": "markdown",
   "metadata": {},
   "source": [
    "_CarlaUE4.exe_ must be running before execturing the next commands"
   ]
  },
  {
   "cell_type": "code",
   "execution_count": 4,
   "metadata": {},
   "outputs": [],
   "source": [
    "# connect to client\n",
    "client = carla.Client('localhost', 2000) #ip and port - should be localhost and 2000 by default\n",
    "# provide access to sim assests \n",
    "world = client.get_world()"
   ]
  },
  {
   "cell_type": "code",
   "execution_count": null,
   "metadata": {},
   "outputs": [
    {
     "data": {
      "text/plain": [
       "['/Game/Carla/Maps/Town01',\n",
       " '/Game/Carla/Maps/Town01_Opt',\n",
       " '/Game/Carla/Maps/Town02',\n",
       " '/Game/Carla/Maps/Town02_Opt',\n",
       " '/Game/Carla/Maps/Town03',\n",
       " '/Game/Carla/Maps/Town03_Opt',\n",
       " '/Game/Carla/Maps/Town04',\n",
       " '/Game/Carla/Maps/Town04_Opt',\n",
       " '/Game/Carla/Maps/Town05',\n",
       " '/Game/Carla/Maps/Town05_Opt',\n",
       " '/Game/Carla/Maps/Town10HD',\n",
       " '/Game/Carla/Maps/Town10HD_Opt']"
      ]
     },
     "execution_count": 5,
     "metadata": {},
     "output_type": "execute_result"
    }
   ],
   "source": [
    "# client.get_available_maps()"
   ]
  },
  {
   "cell_type": "code",
   "execution_count": null,
   "metadata": {},
   "outputs": [],
   "source": [
    "# TODDO: load Town06 map\n",
    "\n",
    "# client.load_world('Town6')"
   ]
  },
  {
   "cell_type": "markdown",
   "metadata": {},
   "source": [
    "\n",
    "__CARLA manual controls__<br>\n",
    "<small>Use ARROWS or WASD keys for control.\n",
    "\n",
    "    W            : throttle\n",
    "    S            : brake\n",
    "    A/D          : steer left/right\n",
    "    Q            : toggle reverse\n",
    "    Space        : hand-brake\n",
    "    P            : toggle autopilot\n",
    "    M            : toggle manual transmission\n",
    "    ,/.          : gear up/down\n",
    "    CTRL + W     : toggle constant velocity mode at 60 km/h\n",
    "\n",
    "    L            : toggle next light type\n",
    "    SHIFT + L    : toggle high beam\n",
    "    Z/X          : toggle right/left blinker\n",
    "    I            : toggle interior light\n",
    "\n",
    "    TAB          : change sensor position\n",
    "    ` or N       : next sensor\n",
    "    [1-9]        : change to sensor [1-9]\n",
    "    G            : toggle radar visualization\n",
    "    C            : change weather (Shift+C reverse)\n",
    "    Backspace    : change vehicle\n",
    "\n",
    "    O            : open/close all doors of vehicle\n",
    "    T            : toggle vehicle's telemetry\n",
    "\n",
    "    V            : Select next map layer (Shift+V reverse)\n",
    "    B            : Load current selected map layer (Shift+B to unload)\n",
    "\n",
    "    R            : toggle recording images to disk\n",
    "\n",
    "    CTRL + R     : toggle recording of simulation (replacing any previous)\n",
    "    CTRL + P     : start replaying last recorded simulation\n",
    "    CTRL + +     : increments the start time of the replay by 1 second (+SHIFT = 10 seconds)\n",
    "    CTRL + -     : decrements the start time of the replay by 1 second (+SHIFT = 10 seconds)\n",
    "\n",
    "    F1           : toggle HUD\n",
    "    H/?          : toggle help\n",
    "    ESC          : quit\n",
    "</small>"
   ]
  },
  {
   "cell_type": "code",
   "execution_count": 6,
   "metadata": {},
   "outputs": [
    {
     "data": {
      "text/plain": [
       "<subprocess.Popen at 0x1eac90f38b0>"
      ]
     },
     "execution_count": 6,
     "metadata": {},
     "output_type": "execute_result"
    }
   ],
   "source": [
    "\n",
    "# # Manual control UI\n",
    "# manual_fp = \"C:\\Temp\\CARLA_0.9.15\\WindowsNoEditor\\PythonAPI\\examples\\manual_control.py\"\n",
    "\n",
    "# # Run the executable in a fully detached process\n",
    "# subprocess.Popen(\n",
    "#     manual_fp,\n",
    "#     shell=True,\n",
    "#     stdout=subprocess.DEVNULL,\n",
    "#     stderr=subprocess.DEVNULL,\n",
    "#     stdin=subprocess.DEVNULL,\n",
    "#     close_fds=True\n",
    "# )\n"
   ]
  },
  {
   "cell_type": "code",
   "execution_count": 6,
   "metadata": {},
   "outputs": [],
   "source": [
    "actor_list = []"
   ]
  },
  {
   "cell_type": "code",
   "execution_count": 7,
   "metadata": {},
   "outputs": [],
   "source": [
    "# provides access to blueprint for creating objects\n",
    "bp_lib = world.get_blueprint_library()\n",
    "# 3d location to spawn objects\n",
    "spawn_points = world.get_map().get_spawn_points()"
   ]
  },
  {
   "cell_type": "code",
   "execution_count": 8,
   "metadata": {},
   "outputs": [],
   "source": [
    "vehicle_bp = bp_lib.find('vehicle.lincoln.mkz_2020')\n",
    "vehicle = world.try_spawn_actor(vehicle_bp, random.choice(spawn_points))\n",
    "\n",
    "actor_list.append(vehicle)"
   ]
  },
  {
   "cell_type": "code",
   "execution_count": 9,
   "metadata": {},
   "outputs": [],
   "source": [
    "# Retrieve the spectator object\n",
    "spectator = world.get_spectator()\n",
    "\n",
    "transform = carla.Transform(vehicle.get_transform().transform(carla.Location(x=-4,z=2.5)), vehicle.get_transform().rotation)\n",
    "# Get the location and rotation of the spectator through its transform\n",
    "spectator.set_transform(transform)"
   ]
  },
  {
   "cell_type": "code",
   "execution_count": 10,
   "metadata": {},
   "outputs": [],
   "source": [
    "for i in range(10):\n",
    "    vehicle_bp = random.choice(bp_lib.filter('vehicle'))\n",
    "    npc = world.try_spawn_actor(vehicle_bp, random.choice(spawn_points))\n",
    "    actor_list.append(npc)"
   ]
  },
  {
   "cell_type": "code",
   "execution_count": 14,
   "metadata": {},
   "outputs": [],
   "source": [
    "for v in world.get_actors().filter('*vehicle*'):\n",
    "    v.set_autopilot(True)"
   ]
  },
  {
   "cell_type": "code",
   "execution_count": 11,
   "metadata": {},
   "outputs": [],
   "source": [
    "for actor in actor_list[1:]:\n",
    "    actor.set_autopilot(True)"
   ]
  },
  {
   "cell_type": "code",
   "execution_count": null,
   "metadata": {},
   "outputs": [],
   "source": [
    "actor_list[0].set_autopilot(False)"
   ]
  },
  {
   "cell_type": "code",
   "execution_count": 12,
   "metadata": {},
   "outputs": [],
   "source": [
    "IMG_WIDTH, IMG_HEIGHT = 640, 480\n",
    "\n",
    "camera_bp = bp_lib.find('sensor.camera.rgb')\n",
    "\n",
    "camera_bp.set_attribute('image_size_x', f'{IMG_WIDTH}')\n",
    "camera_bp.set_attribute('image_size_y', f'{IMG_HEIGHT}')\n",
    "camera_bp.set_attribute('fov', '110')\n",
    "\n",
    "camera_init_trans = carla.Transform(carla.Location(z=2))\n",
    "\n",
    "camera = world.spawn_actor(camera_bp, camera_init_trans, attach_to=vehicle)\n",
    "\n",
    "actor_list.append(camera)\n"
   ]
  },
  {
   "cell_type": "code",
   "execution_count": null,
   "metadata": {},
   "outputs": [],
   "source": [
    "def process_img(image):\n",
    "    i = np.array(image.raw_data) # flatten image to array\n",
    "    i2 = i.reshape((IMG_HEIGHT, IMG_WIDTH, 4)) # 4 channels: RGBA\n",
    "    i3 = i2[:, :, :3] # remove alpha channel (height, width, channels(3))\n",
    "    i4 = i3/255.0 # normalise \n",
    "    cv2.imshow(\"\", i4) # show image\n",
    "    cv2.waitKey(20)\n",
    "    return i4\n"
   ]
  },
  {
   "cell_type": "markdown",
   "metadata": {},
   "source": [
    "CRASHES KERNAL IF RUN"
   ]
  },
  {
   "cell_type": "code",
   "execution_count": null,
   "metadata": {},
   "outputs": [
    {
     "ename": "",
     "evalue": "",
     "output_type": "error",
     "traceback": [
      "\u001b[1;31mThe Kernel crashed while executing code in the current cell or a previous cell. \n",
      "\u001b[1;31mPlease review the code in the cell(s) to identify a possible cause of the failure. \n",
      "\u001b[1;31mClick <a href='https://aka.ms/vscodeJupyterKernelCrash'>here</a> for more info. \n",
      "\u001b[1;31mView Jupyter <a href='command:jupyter.viewOutput'>log</a> for further details."
     ]
    }
   ],
   "source": [
    "# camera.listen(lambda image: process_img(image))\n",
    "# time.sleep(15)\n",
    "# camera.stop()"
   ]
  },
  {
   "cell_type": "code",
   "execution_count": null,
   "metadata": {},
   "outputs": [],
   "source": [
    "# for actor in actor_list:\n",
    "#     actor.destroy() "
   ]
  }
 ],
 "metadata": {
  "kernelspec": {
   "display_name": "Python 3",
   "language": "python",
   "name": "python3"
  },
  "language_info": {
   "codemirror_mode": {
    "name": "ipython",
    "version": 3
   },
   "file_extension": ".py",
   "mimetype": "text/x-python",
   "name": "python",
   "nbconvert_exporter": "python",
   "pygments_lexer": "ipython3",
   "version": "3.8.0"
  }
 },
 "nbformat": 4,
 "nbformat_minor": 2
}
