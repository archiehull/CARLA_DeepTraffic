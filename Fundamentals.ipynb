{
 "cells": [
  {
   "cell_type": "markdown",
   "metadata": {},
   "source": [
    "https://carla.readthedocs.io/en/latest/tuto_first_steps/\n",
    "\n",
    "https://www.youtube.com/watch?v=pONr1R1dy88\n",
    "\n",
    "https://www.youtube.com/playlist?list=PLQVvvaa0QuDeI12McNQdnTlWz9XlCa0uo"
   ]
  },
  {
   "cell_type": "markdown",
   "metadata": {},
   "source": [
    "**MUST USE PYTHON 3.8**\n",
    "<br>newer vesions will encouter these errors:\n",
    "<br><br>*python setup.py egg_info did not run successfully.*\n",
    "<br>*FileNotFoundError: [WinError 3] The system cannot find the path specified: 'dependencies/lib'*"
   ]
  },
  {
   "cell_type": "code",
   "execution_count": null,
   "metadata": {},
   "outputs": [
    {
     "name": "stdout",
     "output_type": "stream",
     "text": [
      "3.8.0 (tags/v3.8.0:fa919fd, Oct 14 2019, 19:37:50) [MSC v.1916 64 bit (AMD64)]\n"
     ]
    }
   ],
   "source": [
    "import sys\n",
    "print(sys.version)"
   ]
  },
  {
   "cell_type": "markdown",
   "metadata": {},
   "source": [
    "__Install pygame and numpy library to pythong 3.8 terminal__"
   ]
  },
  {
   "cell_type": "code",
   "execution_count": null,
   "metadata": {},
   "outputs": [],
   "source": [
    "#!py -3.8 -m pip install numpy\n",
    "#!py -3.8 -m pip install pygame"
   ]
  },
  {
   "cell_type": "code",
   "execution_count": 2,
   "metadata": {},
   "outputs": [],
   "source": [
    "#pip install carla"
   ]
  },
  {
   "cell_type": "code",
   "execution_count": null,
   "metadata": {},
   "outputs": [],
   "source": [
    "import carla\n",
    "import math\n",
    "import random\n",
    "import time\n",
    "import subprocess\n"
   ]
  },
  {
   "cell_type": "code",
   "execution_count": 6,
   "metadata": {},
   "outputs": [
    {
     "data": {
      "text/plain": [
       "<subprocess.Popen at 0x1c5fd60ac70>"
      ]
     },
     "execution_count": 6,
     "metadata": {},
     "output_type": "execute_result"
    }
   ],
   "source": [
    "exe_filepath = \"C:\\Temp\\CARLA_0.9.15\\WindowsNoEditor\\CarlaUE4.exe\"\n",
    "\n",
    "# Run the executable in a fully detached process\n",
    "subprocess.Popen(\n",
    "    exe_filepath,\n",
    "    shell=True,\n",
    "    stdout=subprocess.DEVNULL,\n",
    "    stderr=subprocess.DEVNULL,\n",
    "    stdin=subprocess.DEVNULL,\n",
    "    close_fds=True\n",
    ")"
   ]
  },
  {
   "cell_type": "markdown",
   "metadata": {},
   "source": [
    "_CarlaUE4.exe_ must be running before execturing the next commands"
   ]
  },
  {
   "cell_type": "code",
   "execution_count": 7,
   "metadata": {},
   "outputs": [],
   "source": [
    "# connect to client\n",
    "client = carla.Client('localhost', 2000) #ip and port - should be localhost and 2000 by default\n",
    "# provide access to sim assests \n",
    "world = client.get_world()"
   ]
  },
  {
   "cell_type": "code",
   "execution_count": 3,
   "metadata": {},
   "outputs": [],
   "source": [
    "# client.get_available_maps()"
   ]
  },
  {
   "cell_type": "code",
   "execution_count": null,
   "metadata": {},
   "outputs": [],
   "source": [
    "# TODDO: load Town06 map\n",
    "\n",
    "# client.load_world('Town6')"
   ]
  },
  {
   "cell_type": "markdown",
   "metadata": {},
   "source": [
    "\n",
    "__CARLA manual controls__<br>\n",
    "<small>Use ARROWS or WASD keys for control.\n",
    "\n",
    "    W            : throttle\n",
    "    S            : brake\n",
    "    A/D          : steer left/right\n",
    "    Q            : toggle reverse\n",
    "    Space        : hand-brake\n",
    "    P            : toggle autopilot\n",
    "    M            : toggle manual transmission\n",
    "    ,/.          : gear up/down\n",
    "    CTRL + W     : toggle constant velocity mode at 60 km/h\n",
    "\n",
    "    L            : toggle next light type\n",
    "    SHIFT + L    : toggle high beam\n",
    "    Z/X          : toggle right/left blinker\n",
    "    I            : toggle interior light\n",
    "\n",
    "    TAB          : change sensor position\n",
    "    ` or N       : next sensor\n",
    "    [1-9]        : change to sensor [1-9]\n",
    "    G            : toggle radar visualization\n",
    "    C            : change weather (Shift+C reverse)\n",
    "    Backspace    : change vehicle\n",
    "\n",
    "    O            : open/close all doors of vehicle\n",
    "    T            : toggle vehicle's telemetry\n",
    "\n",
    "    V            : Select next map layer (Shift+V reverse)\n",
    "    B            : Load current selected map layer (Shift+B to unload)\n",
    "\n",
    "    R            : toggle recording images to disk\n",
    "\n",
    "    CTRL + R     : toggle recording of simulation (replacing any previous)\n",
    "    CTRL + P     : start replaying last recorded simulation\n",
    "    CTRL + +     : increments the start time of the replay by 1 second (+SHIFT = 10 seconds)\n",
    "    CTRL + -     : decrements the start time of the replay by 1 second (+SHIFT = 10 seconds)\n",
    "\n",
    "    F1           : toggle HUD\n",
    "    H/?          : toggle help\n",
    "    ESC          : quit\n",
    "</small>"
   ]
  },
  {
   "cell_type": "code",
   "execution_count": 9,
   "metadata": {},
   "outputs": [
    {
     "data": {
      "text/plain": [
       "<subprocess.Popen at 0x1c5fd60a100>"
      ]
     },
     "execution_count": 9,
     "metadata": {},
     "output_type": "execute_result"
    }
   ],
   "source": [
    "# Manual control UI\n",
    "manual_fp = \"C:\\Temp\\CARLA_0.9.15\\WindowsNoEditor\\PythonAPI\\examples\\manual_control.py\"\n",
    "\n",
    "# Run the executable in a fully detached process\n",
    "subprocess.Popen(\n",
    "    manual_fp,\n",
    "    shell=True,\n",
    "    stdout=subprocess.DEVNULL,\n",
    "    stderr=subprocess.DEVNULL,\n",
    "    stdin=subprocess.DEVNULL,\n",
    "    close_fds=True\n",
    ")"
   ]
  },
  {
   "cell_type": "code",
   "execution_count": 6,
   "metadata": {},
   "outputs": [],
   "source": [
    "# provides access to blueprint for creating objects\n",
    "bp_lib = world.get_blueprint_library()\n",
    "# 3d location to spawn objects\n",
    "spawn_points = world.get_map().get_spawn_points()"
   ]
  },
  {
   "cell_type": "code",
   "execution_count": 7,
   "metadata": {},
   "outputs": [],
   "source": [
    "vehicle_bp = bp_lib.find('vehicle.lincoln.mkz_2020')\n",
    "vehicle = world.try_spawn_actor(vehicle_bp, random.choice(spawn_points))"
   ]
  },
  {
   "cell_type": "code",
   "execution_count": 8,
   "metadata": {},
   "outputs": [],
   "source": [
    "# Retrieve the spectator object\n",
    "spectator = world.get_spectator()\n",
    "\n",
    "transform = carla.Transform(vehicle.get_transform().transform(carla.Location(x=-4,z=2.5)), vehicle.get_transform().rotation)\n",
    "# Get the location and rotation of the spectator through its transform\n",
    "spectator.set_transform(transform)"
   ]
  },
  {
   "cell_type": "code",
   "execution_count": 9,
   "metadata": {},
   "outputs": [],
   "source": [
    "for i in range(10):\n",
    "    vehicle_bp = random.choice(bp_lib.filter('vehicle'))\n",
    "    npc = world.try_spawn_actor(vehicle_bp, random.choice(spawn_points))"
   ]
  },
  {
   "cell_type": "code",
   "execution_count": 10,
   "metadata": {},
   "outputs": [],
   "source": [
    "for v in world.get_actors().filter('*vehicle*'):\n",
    "    v.set_autopilot(True)"
   ]
  },
  {
   "cell_type": "code",
   "execution_count": 11,
   "metadata": {},
   "outputs": [],
   "source": [
    "camera_bp = bp_lib.find('sensor.camera.rgb')\n",
    "\n",
    "camera_init_trans = carla.Transform(carla.Location(z=2))\n",
    "\n",
    "camera = world.spawn_actor(camera_bp, camera_init_trans, attach_to=vehicle)\n"
   ]
  },
  {
   "cell_type": "code",
   "execution_count": 12,
   "metadata": {},
   "outputs": [],
   "source": [
    "camera.listen(lambda image: image.save_to_disk('out/%06d.png' % image.frame))\n",
    "time.sleep(10)\n",
    "camera.stop()"
   ]
  }
 ],
 "metadata": {
  "kernelspec": {
   "display_name": "Python 3",
   "language": "python",
   "name": "python3"
  },
  "language_info": {
   "codemirror_mode": {
    "name": "ipython",
    "version": 3
   },
   "file_extension": ".py",
   "mimetype": "text/x-python",
   "name": "python",
   "nbconvert_exporter": "python",
   "pygments_lexer": "ipython3",
   "version": "3.8.0"
  }
 },
 "nbformat": 4,
 "nbformat_minor": 2
}
